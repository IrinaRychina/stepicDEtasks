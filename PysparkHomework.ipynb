{
  "nbformat": 4,
  "nbformat_minor": 0,
  "metadata": {
    "colab": {
      "provenance": [],
      "authorship_tag": "ABX9TyOBDBXSR1XM5PzDhKtn88aS",
      "include_colab_link": true
    },
    "kernelspec": {
      "name": "python3",
      "display_name": "Python 3"
    },
    "language_info": {
      "name": "python"
    }
  },
  "cells": [
    {
      "cell_type": "markdown",
      "metadata": {
        "id": "view-in-github",
        "colab_type": "text"
      },
      "source": [
        "<a href=\"https://colab.research.google.com/github/IrinaRychina/stepicDEtasks/blob/main/PysparkHomework.ipynb\" target=\"_parent\"><img src=\"https://colab.research.google.com/assets/colab-badge.svg\" alt=\"Open In Colab\"/></a>"
      ]
    },
    {
      "cell_type": "code",
      "execution_count": null,
      "metadata": {
        "id": "jC5nR6pm2MMo"
      },
      "outputs": [],
      "source": [
        "from pyspark.sql import SparkSession\n",
        "from pyspark.sql.functions import col, sum as spark_sum, to_date\n",
        "\n",
        "# Создание SparkSession\n",
        "spark = SparkSession.builder.appName(\"Read CSV Example\").getOrCreate()\n",
        "# Чтение CSV-файла\n",
        "df = spark.read.csv(\"web_server_logs.csv\", header=True, inferSchema=True)\n",
        "# Печать схемы DataFrame\n",
        "df.printSchema()\n",
        "# Показ первых 5 строк\n",
        "df.show(5)\n",
        "\n",
        "\n",
        "ip_count = df.groupBy(\"ip\").count()\n",
        "# Сортируем по количеству запросов и берем топ-10\n",
        "top_10_ips = ip_count.orderBy(col(\"count\").desc()).limit(10)\n",
        "print(f\"Top 10 active IP addresses:\")\n",
        "top_10_ips.show()\n",
        "\n",
        "method_count = df.groupBy(\"method\").count()\n",
        "print(f\"Request count by HTTP method:\")\n",
        "method_count.show()\n",
        "\n",
        "not_found_count = df.filter(df.response_code == 404).count()\n",
        "print(f\"Number of 404 responses: {not_found_count}\")\n",
        "\n",
        "\n",
        "df_date = df.withColumn(\"date\", to_date(df[\"timestamp\"]))\n",
        "df_date_grouped = df_date.groupBy(\"date\").agg(spark_sum(\"response_size\").alias(\"total_response_size\"))\n",
        "df_date_sorted = df_date_grouped.orderBy(\"date\")\n",
        "print(f\"Total response size by day:\")\n",
        "df_date_sorted.show()"
      ]
    }
  ]
}