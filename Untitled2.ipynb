{
  "nbformat": 4,
  "nbformat_minor": 0,
  "metadata": {
    "colab": {
      "provenance": [],
      "authorship_tag": "ABX9TyMZOn3hPxcPebwa5M0RUbKE",
      "include_colab_link": true
    },
    "kernelspec": {
      "name": "python3",
      "display_name": "Python 3"
    },
    "language_info": {
      "name": "python"
    }
  },
  "cells": [
    {
      "cell_type": "markdown",
      "metadata": {
        "id": "view-in-github",
        "colab_type": "text"
      },
      "source": [
        "<a href=\"https://colab.research.google.com/github/IrinaRychina/stepicDEtasks/blob/main/Untitled2.ipynb\" target=\"_parent\"><img src=\"https://colab.research.google.com/assets/colab-badge.svg\" alt=\"Open In Colab\"/></a>"
      ]
    },
    {
      "cell_type": "code",
      "source": [
        "!pip install faker"
      ],
      "metadata": {
        "colab": {
          "base_uri": "https://localhost:8080/"
        },
        "id": "hS41z3Ymd1tf",
        "outputId": "17e301f2-cf6f-42d0-bd1c-79c681321a21"
      },
      "execution_count": null,
      "outputs": [
        {
          "output_type": "stream",
          "name": "stdout",
          "text": [
            "Collecting faker\n",
            "  Downloading Faker-33.3.1-py3-none-any.whl.metadata (15 kB)\n",
            "Requirement already satisfied: python-dateutil>=2.4 in /usr/local/lib/python3.10/dist-packages (from faker) (2.8.2)\n",
            "Requirement already satisfied: typing-extensions in /usr/local/lib/python3.10/dist-packages (from faker) (4.12.2)\n",
            "Requirement already satisfied: six>=1.5 in /usr/local/lib/python3.10/dist-packages (from python-dateutil>=2.4->faker) (1.17.0)\n",
            "Downloading Faker-33.3.1-py3-none-any.whl (1.9 MB)\n",
            "\u001b[?25l   \u001b[90m━━━━━━━━━━━━━━━━━━━━━━━━━━━━━━━━━━━━━━━━\u001b[0m \u001b[32m0.0/1.9 MB\u001b[0m \u001b[31m?\u001b[0m eta \u001b[36m-:--:--\u001b[0m\r\u001b[2K   \u001b[91m━━━━━━━━━━━━━━━━━━━━━━━━━━━━━━━━━━━━━━━\u001b[0m\u001b[91m╸\u001b[0m \u001b[32m1.9/1.9 MB\u001b[0m \u001b[31m63.1 MB/s\u001b[0m eta \u001b[36m0:00:01\u001b[0m\r\u001b[2K   \u001b[90m━━━━━━━━━━━━━━━━━━━━━━━━━━━━━━━━━━━━━━━━\u001b[0m \u001b[32m1.9/1.9 MB\u001b[0m \u001b[31m34.3 MB/s\u001b[0m eta \u001b[36m0:00:00\u001b[0m\n",
            "\u001b[?25hInstalling collected packages: faker\n",
            "Successfully installed faker-33.3.1\n"
          ]
        }
      ]
    },
    {
      "cell_type": "code",
      "source": [
        "import csv\n",
        "from faker import Faker\n",
        "import random\n",
        "\n",
        "fake = Faker()\n",
        "\n",
        "num_records = 100000\n",
        "\n",
        "http_methods = ['GET', 'POST', 'PUT', 'DELETE']\n",
        "response_codes = [200, 301, 404, 500]\n",
        "\n",
        "file_path = \"web_server_logs.csv\"\n",
        "\n",
        "with open(file_path, mode='w', newline='') as file:\n",
        "    writer = csv.writer(file)\n",
        "    writer.writerow(['ip', 'timestamp', 'method', 'url', 'response_code', 'response_size'])\n",
        "\n",
        "    for _ in range(num_records):\n",
        "        ip = fake.ipv4()\n",
        "        timestamp = fake.date_time_this_year().isoformat()\n",
        "        method = random.choice(http_methods)\n",
        "        url = fake.uri_path()\n",
        "        response_code = random.choice(response_codes)\n",
        "        response_size = random.randint(100, 10000)\n",
        "\n",
        "        writer.writerow([ip, timestamp, method, url, response_code, response_size])\n",
        "\n",
        "print(f\"Сгенерировано {num_records} записей и сохранено в {file_path}\")"
      ],
      "metadata": {
        "colab": {
          "base_uri": "https://localhost:8080/"
        },
        "id": "V0BNdz6wd4Lk",
        "outputId": "7e06f28e-1e17-498c-b264-edcc7849eef3"
      },
      "execution_count": null,
      "outputs": [
        {
          "output_type": "stream",
          "name": "stdout",
          "text": [
            "Сгенерировано 100000 записей и сохранено в web_server_logs.csv\n"
          ]
        }
      ]
    },
    {
      "cell_type": "code",
      "source": [
        "from pyspark.sql import SparkSession\n",
        "\n",
        "# Создание SparkSession\n",
        "spark = SparkSession.builder.appName(\"Read CSV Example\").getOrCreate()\n",
        "\n",
        "# Чтение CSV-файла\n",
        "df = spark.read.csv(\"web_server_logs.csv\", header=True, inferSchema=True)\n",
        "\n",
        "# Печать схемы DataFrame\n",
        "df.printSchema()\n",
        "\n",
        "# Показ первых 5 строк\n",
        "df.show(5)"
      ],
      "metadata": {
        "colab": {
          "base_uri": "https://localhost:8080/"
        },
        "id": "GwUgMyyQfKkF",
        "outputId": "86bb4480-414f-4763-ce44-873e22e7c726"
      },
      "execution_count": null,
      "outputs": [
        {
          "output_type": "stream",
          "name": "stdout",
          "text": [
            "root\n",
            " |-- ip: string (nullable = true)\n",
            " |-- timestamp: timestamp (nullable = true)\n",
            " |-- method: string (nullable = true)\n",
            " |-- url: string (nullable = true)\n",
            " |-- response_code: integer (nullable = true)\n",
            " |-- response_size: integer (nullable = true)\n",
            "\n",
            "+---------------+--------------------+------+------------------+-------------+-------------+\n",
            "|             ip|           timestamp|method|               url|response_code|response_size|\n",
            "+---------------+--------------------+------+------------------+-------------+-------------+\n",
            "|219.118.165.210|2025-01-09 03:19:...|   GET| categories/search|          200|         5995|\n",
            "|  113.40.112.85|2025-01-01 23:24:...|   PUT|               app|          301|         5591|\n",
            "|109.226.217.201|2025-01-01 22:26:...|   GET|categories/explore|          200|         2005|\n",
            "|  62.248.250.79|2025-01-08 15:31:...|   PUT|              list|          404|         5831|\n",
            "|  165.55.60.238|2025-01-06 05:13:...|  POST|posts/explore/blog|          301|         3553|\n",
            "+---------------+--------------------+------+------------------+-------------+-------------+\n",
            "only showing top 5 rows\n",
            "\n"
          ]
        }
      ]
    },
    {
      "cell_type": "code",
      "source": [
        "from pyspark.sql.functions import col\n",
        "ip_count = df.groupBy(\"ip\").count()\n",
        "\n",
        "# Сортируем по количеству запросов и берем топ-10\n",
        "top_10_ips = ip_count.orderBy(col(\"count\").desc()).limit(10)\n",
        "print(f\"Top 10 active IP addresses:\")\n",
        "top_10_ips.show()"
      ],
      "metadata": {
        "colab": {
          "base_uri": "https://localhost:8080/"
        },
        "id": "hAnuHlS-hgPH",
        "outputId": "9a25f660-613f-4b2c-e2b9-1f97a14ebe07"
      },
      "execution_count": null,
      "outputs": [
        {
          "output_type": "stream",
          "name": "stdout",
          "text": [
            "Top 10 active IP addresses:\n",
            "+--------------+-----+\n",
            "|            ip|count|\n",
            "+--------------+-----+\n",
            "|41.128.131.132|    1|\n",
            "|  60.50.62.119|    1|\n",
            "|   3.217.9.187|    1|\n",
            "|117.156.160.20|    1|\n",
            "|   72.94.184.0|    1|\n",
            "| 31.241.227.57|    1|\n",
            "|  4.119.42.162|    1|\n",
            "|132.47.151.206|    1|\n",
            "|10.127.163.240|    1|\n",
            "| 121.48.88.146|    1|\n",
            "+--------------+-----+\n",
            "\n"
          ]
        }
      ]
    },
    {
      "cell_type": "code",
      "source": [
        "method_count = df.groupBy(\"method\").count()\n",
        "print(f\"NRequest count by HTTP method:\")\n",
        "method_count.show()"
      ],
      "metadata": {
        "colab": {
          "base_uri": "https://localhost:8080/"
        },
        "id": "nFAkKYt-9b_S",
        "outputId": "dcf39272-dd64-4657-f624-1b0439dfedaa"
      },
      "execution_count": null,
      "outputs": [
        {
          "output_type": "stream",
          "name": "stdout",
          "text": [
            "NRequest count by HTTP method:\n",
            "+------+-----+\n",
            "|method|count|\n",
            "+------+-----+\n",
            "|  POST|24851|\n",
            "|DELETE|24890|\n",
            "|   PUT|25189|\n",
            "|   GET|25070|\n",
            "+------+-----+\n",
            "\n"
          ]
        }
      ]
    },
    {
      "cell_type": "code",
      "source": [
        "not_found_count = df.filter(df.response_code == 404).count()\n",
        "print(f\"Number of 404 responses: {not_found_count}\")"
      ],
      "metadata": {
        "colab": {
          "base_uri": "https://localhost:8080/"
        },
        "id": "1XWoxp9w_bvY",
        "outputId": "f05fccd3-491c-4536-83ab-0f36538984f5"
      },
      "execution_count": null,
      "outputs": [
        {
          "output_type": "stream",
          "name": "stdout",
          "text": [
            "25153\n"
          ]
        }
      ]
    },
    {
      "cell_type": "code",
      "source": [
        "from pyspark.sql.functions import sum as spark_sum, to_date\n",
        "df_date = df.withColumn(\"date\", to_date(df[\"timestamp\"]))\n",
        "df_date_grouped = df_date.groupBy(\"date\").agg(spark_sum(\"response_size\").alias(\"total_response_size\"))\n",
        "df_date_sorted = df_date_grouped.orderBy(\"date\")\n",
        "print(f\"Total response size by day:\")\n",
        "df_date_sorted.show()"
      ],
      "metadata": {
        "colab": {
          "base_uri": "https://localhost:8080/"
        },
        "id": "Ck1LfL7fBlzC",
        "outputId": "b6ffe513-042c-4f8f-f758-c78908cf3643"
      },
      "execution_count": null,
      "outputs": [
        {
          "output_type": "stream",
          "name": "stdout",
          "text": [
            "Total response size by day:\n",
            "+----------+-------------------+\n",
            "|      date|total_response_size|\n",
            "+----------+-------------------+\n",
            "|2025-01-01|           42981815|\n",
            "|2025-01-02|           44141051|\n",
            "|2025-01-03|           44912888|\n",
            "|2025-01-04|           44848029|\n",
            "|2025-01-05|           44989068|\n",
            "|2025-01-06|           44720389|\n",
            "|2025-01-07|           44695929|\n",
            "|2025-01-08|           43704933|\n",
            "|2025-01-09|           43916844|\n",
            "|2025-01-10|           44517718|\n",
            "|2025-01-11|           43992433|\n",
            "|2025-01-12|           18476088|\n",
            "+----------+-------------------+\n",
            "\n"
          ]
        }
      ]
    },
    {
      "cell_type": "code",
      "source": [
        "from pyspark.sql import SparkSession\n",
        "from pyspark.sql.functions import col, sum as spark_sum, to_date\n",
        "\n",
        "# Создание SparkSession\n",
        "spark = SparkSession.builder.appName(\"Read CSV Example\").getOrCreate()\n",
        "# Чтение CSV-файла\n",
        "df = spark.read.csv(\"web_server_logs.csv\", header=True, inferSchema=True)\n",
        "# Печать схемы DataFrame\n",
        "df.printSchema()\n",
        "# Показ первых 5 строк\n",
        "df.show(5)\n",
        "\n",
        "\n",
        "ip_count = df.groupBy(\"ip\").count()\n",
        "# Сортируем по количеству запросов и берем топ-10\n",
        "top_10_ips = ip_count.orderBy(col(\"count\").desc()).limit(10)\n",
        "print(f\"Top 10 active IP addresses:\")\n",
        "top_10_ips.show()\n",
        "\n",
        "method_count = df.groupBy(\"method\").count()\n",
        "print(f\"Request count by HTTP method:\")\n",
        "method_count.show()\n",
        "\n",
        "not_found_count = df.filter(df.response_code == 404).count()\n",
        "print(f\"Number of 404 responses: {not_found_count}\")\n",
        "\n",
        "\n",
        "df_date = df.withColumn(\"date\", to_date(df[\"timestamp\"]))\n",
        "df_date_grouped = df_date.groupBy(\"date\").agg(spark_sum(\"response_size\").alias(\"total_response_size\"))\n",
        "df_date_sorted = df_date_grouped.orderBy(\"date\")\n",
        "print(f\"Total response size by day:\")\n",
        "df_date_sorted.show()"
      ],
      "metadata": {
        "colab": {
          "base_uri": "https://localhost:8080/"
        },
        "id": "IXNm-jnaJPMP",
        "outputId": "9f0db81f-7482-4eeb-b561-03ad37640c20"
      },
      "execution_count": null,
      "outputs": [
        {
          "output_type": "stream",
          "name": "stdout",
          "text": [
            "root\n",
            " |-- ip: string (nullable = true)\n",
            " |-- timestamp: timestamp (nullable = true)\n",
            " |-- method: string (nullable = true)\n",
            " |-- url: string (nullable = true)\n",
            " |-- response_code: integer (nullable = true)\n",
            " |-- response_size: integer (nullable = true)\n",
            "\n",
            "+---------------+--------------------+------+--------------------+-------------+-------------+\n",
            "|             ip|           timestamp|method|                 url|response_code|response_size|\n",
            "+---------------+--------------------+------+--------------------+-------------+-------------+\n",
            "|   83.101.54.67|2025-01-04 04:04:...|   GET|     category/search|          301|         4798|\n",
            "|  179.21.190.15|2025-01-03 20:35:...|DELETE|  categories/explore|          200|         1688|\n",
            "|136.229.196.194|2025-01-02 06:20:...|   PUT|  explore/search/app|          500|          795|\n",
            "|  98.62.123.159|2025-01-08 03:11:...|   PUT|category/categori...|          404|         3798|\n",
            "|   95.119.125.9|2025-01-06 09:34:...|  POST|explore/category/...|          200|         7985|\n",
            "+---------------+--------------------+------+--------------------+-------------+-------------+\n",
            "only showing top 5 rows\n",
            "\n",
            "Top 10 active IP addresses:\n",
            "+--------------+-----+\n",
            "|            ip|count|\n",
            "+--------------+-----+\n",
            "|142.108.115.19|    1|\n",
            "| 169.83.200.30|    1|\n",
            "| 39.158.151.10|    1|\n",
            "| 182.98.19.148|    1|\n",
            "|130.35.115.211|    1|\n",
            "| 194.167.118.7|    1|\n",
            "|  97.84.36.132|    1|\n",
            "|163.192.38.214|    1|\n",
            "|  190.5.50.214|    1|\n",
            "|   19.50.14.38|    1|\n",
            "+--------------+-----+\n",
            "\n",
            "Request count by HTTP method:\n",
            "+------+-----+\n",
            "|method|count|\n",
            "+------+-----+\n",
            "|  POST|25089|\n",
            "|DELETE|25121|\n",
            "|   PUT|24831|\n",
            "|   GET|24959|\n",
            "+------+-----+\n",
            "\n",
            "Number of 404 responses: 24884\n",
            "Total response size by day:\n",
            "+----------+-------------------+\n",
            "|      date|total_response_size|\n",
            "+----------+-------------------+\n",
            "|2025-01-01|           43404995|\n",
            "|2025-01-02|           43471952|\n",
            "|2025-01-03|           43913728|\n",
            "|2025-01-04|           43379176|\n",
            "|2025-01-05|           43229146|\n",
            "|2025-01-06|           43797253|\n",
            "|2025-01-07|           44193666|\n",
            "|2025-01-08|           43746442|\n",
            "|2025-01-09|           43952001|\n",
            "|2025-01-10|           44147060|\n",
            "|2025-01-11|           43464124|\n",
            "|2025-01-12|           23950901|\n",
            "+----------+-------------------+\n",
            "\n"
          ]
        }
      ]
    }
  ]
}